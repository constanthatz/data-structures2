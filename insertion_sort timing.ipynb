{
 "cells": [
  {
   "cell_type": "code",
   "execution_count": 9,
   "metadata": {
    "collapsed": false
   },
   "outputs": [],
   "source": [
    "from insertion_sort import insertion_sort as ins_sort\n",
    "import timeit\n",
    "import matplotlib.pyplot as plt"
   ]
  },
  {
   "cell_type": "code",
   "execution_count": null,
   "metadata": {
    "collapsed": false
   },
   "outputs": [],
   "source": [
    "n = 7\n",
    "nums_best = [range(0, 1*(10**i)) for i in xrange(n)]\n",
    "nums_worst = [item[::-1] for item in nums_best]\n",
    "\n",
    "time_best = []\n",
    "time_worst = []\n",
    "\n",
    "for i in xrange(len(nums_best)):\n",
    "    def test(nums):\n",
    "        ins_sort(nums)\n",
    "\n",
    "    setup = \"from __main__ import test\\nnums = {}\"\n",
    "\n",
    "    time_best.append(timeit.Timer(\"test(nums)\", setup=setup.format(nums_best[i])).timeit(number=1000))\n",
    "    time_worst.append(timeit.Timer(\"test(nums)\", setup=setup.format(nums_worst[i])).timeit(number=1000))"
   ]
  },
  {
   "cell_type": "code",
   "execution_count": null,
   "metadata": {
    "collapsed": false
   },
   "outputs": [],
   "source": [
    "print(time_best)\n",
    "print(time_worst)"
   ]
  },
  {
   "cell_type": "code",
   "execution_count": 44,
   "metadata": {
    "collapsed": false
   },
   "outputs": [],
   "source": [
    "x = [10**i for i in xrange(n)]\n",
    "fig, ax = plt.subplots()\n",
    "ax.plot(x, time_best, 'bs-', label='Best Case O(n)')\n",
    "ax.plot(x, time_worst, 'g^--', label='Worst Case O(n^2)')\n",
    "legend = ax.legend(loc='upper center')\n",
    "plt.xlabel('Length of List')\n",
    "plt.ylabel('Sort Time (s)')\n",
    "plt.xscale('log')\n",
    "plt.yscale('log')\n",
    "plt.show()"
   ]
  },
  {
   "cell_type": "code",
   "execution_count": 16,
   "metadata": {
    "collapsed": true
   },
   "outputs": [],
   "source": []
  },
  {
   "cell_type": "code",
   "execution_count": null,
   "metadata": {
    "collapsed": true
   },
   "outputs": [],
   "source": []
  }
 ],
 "metadata": {
  "kernelspec": {
   "display_name": "Python 2",
   "language": "python",
   "name": "python2"
  },
  "language_info": {
   "codemirror_mode": {
    "name": "ipython",
    "version": 2
   },
   "file_extension": ".py",
   "mimetype": "text/x-python",
   "name": "python",
   "nbconvert_exporter": "python",
   "pygments_lexer": "ipython2",
   "version": "2.7.9"
  }
 },
 "nbformat": 4,
 "nbformat_minor": 0
}
